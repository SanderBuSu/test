{
 "cells": [
  {
   "cell_type": "code",
   "execution_count": 1,
   "id": "60004066",
   "metadata": {},
   "outputs": [
    {
     "name": "stdout",
     "output_type": "stream",
     "text": [
      "Ferdig! Følgende CSV-filer er opprettet:\n",
      " - ../data/missing\\missing_in_both.csv\n",
      " - ../data/missing\\missing_summary.csv\n"
     ]
    }
   ],
   "source": [
    "from missingdatafinder import MissingWeatherDataAnalyzer\n",
    "\n",
    "if __name__ == \"__main__\":\n",
    "    oslo_path =\"../data/processed/vaerdata_oslo.csv\"\n",
    "    tromso_path =\"../data/processed/vaerdata_tromso.csv\"\n",
    "    output_dir =\"../data/missing\"\n",
    "\n",
    "    analyzer = MissingWeatherDataAnalyzer(oslo_path, tromso_path, output_dir)\n",
    "    analyzer.load_data()\n",
    "    analyzer.identify_missing()\n",
    "    analyzer.save_missing_data()"
   ]
  }
 ],
 "metadata": {
  "kernelspec": {
   "display_name": "venv",
   "language": "python",
   "name": "python3"
  },
  "language_info": {
   "codemirror_mode": {
    "name": "ipython",
    "version": 3
   },
   "file_extension": ".py",
   "mimetype": "text/x-python",
   "name": "python",
   "nbconvert_exporter": "python",
   "pygments_lexer": "ipython3",
   "version": "3.13.2"
  }
 },
 "nbformat": 4,
 "nbformat_minor": 5
}
