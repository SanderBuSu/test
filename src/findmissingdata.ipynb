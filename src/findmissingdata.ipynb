{
 "cells": [
  {
   "cell_type": "code",
   "execution_count": 2,
   "id": "60004066",
   "metadata": {},
   "outputs": [
    {
     "name": "stdout",
     "output_type": "stream",
     "text": [
      "Oslo path: /Users/mathiasstrom/Anvendt_Prog/data/processed/vaerdata_oslo.csv\n",
      "Tromsø path: /Users/mathiasstrom/Anvendt_Prog/data/processed/vaerdata_tromso.csv\n",
      "Output dir: /Users/mathiasstrom/Anvendt_Prog/data/missing\n",
      "Ferdig! Følgende CSV-filer er opprettet:\n",
      " - /Users/mathiasstrom/Anvendt_Prog/data/missing/missing_in_both.csv\n",
      " - /Users/mathiasstrom/Anvendt_Prog/data/missing/missing_summary.csv\n"
     ]
    }
   ],
   "source": [
    "import os\n",
    "from missingdatafinder import MissingWeatherDataAnalyzer\n",
    "\n",
    "base_dir = os.getcwd()\n",
    "\n",
    "oslo_path = os.path.normpath(os.path.join(base_dir, \"../data/processed/vaerdata_oslo.csv\"))\n",
    "tromso_path = os.path.normpath(os.path.join(base_dir, \"../data/processed/vaerdata_tromso.csv\"))\n",
    "output_dir = os.path.normpath(os.path.join(base_dir, \"../data/missing\"))\n",
    "\n",
    "print(\"Oslo path:\", oslo_path)\n",
    "print(\"Tromsø path:\", tromso_path)\n",
    "print(\"Output dir:\", output_dir)\n",
    "\n",
    "analyzer = MissingWeatherDataAnalyzer(oslo_path, tromso_path, output_dir)\n",
    "analyzer.load_data()\n",
    "analyzer.identify_missing()\n",
    "analyzer.save_missing_data()\n",
    "\n"
   ]
  }
 ],
 "metadata": {
  "kernelspec": {
   "display_name": "venv",
   "language": "python",
   "name": "python3"
  },
  "language_info": {
   "codemirror_mode": {
    "name": "ipython",
    "version": 3
   },
   "file_extension": ".py",
   "mimetype": "text/x-python",
   "name": "python",
   "nbconvert_exporter": "python",
   "pygments_lexer": "ipython3",
   "version": "3.13.2"
  }
 },
 "nbformat": 4,
 "nbformat_minor": 5
}
