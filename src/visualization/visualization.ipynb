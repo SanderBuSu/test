{
 "cells": [
  {
   "cell_type": "markdown",
   "metadata": {},
   "source": [
    "## Felles import for alle kodeblokker"
   ]
  },
  {
   "cell_type": "code",
   "execution_count": null,
   "metadata": {},
   "outputs": [],
   "source": [
    "import sys\n",
    "import calendar\n",
    "\n",
    "import pandas as pd\n",
    "import matplotlib.pyplot as plt\n",
    "import plotly.express as px\n",
    "\n",
    "import plotly.graph_objects as go\n",
    "from dash import Dash, html, dcc, Input, Output\n",
    "\n",
    "import ipywidgets as widgets\n",
    "from IPython.display import display, clear_output\n",
    "\n",
    "# Utvider søkesti til egne moduler\n",
    "sys.path.append(\"../analysis\")\n",
    "\n",
    "from basedata import DataLoader\n",
    "from monthlystats import MonthlyStats\n",
    "from outlierdetector import OutlierDetector\n",
    "\n",
    "# Initialisering av instanser\n",
    "loader = DataLoader(\"../../data/processed\")\n",
    "ms = MonthlyStats(\"../../data/processed\")\n",
    "od = OutlierDetector()"
   ]
  },
  {
   "cell_type": "markdown",
   "metadata": {},
   "source": [
    "## Tempratur forskjell by"
   ]
  },
  {
   "cell_type": "code",
   "execution_count": 5,
   "metadata": {},
   "outputs": [
    {
     "data": {
      "text/html": [
       "\n",
       "        <iframe\n",
       "            width=\"100%\"\n",
       "            height=\"650\"\n",
       "            src=\"http://127.0.0.1:8052/\"\n",
       "            frameborder=\"0\"\n",
       "            allowfullscreen\n",
       "            \n",
       "        ></iframe>\n",
       "        "
      ],
      "text/plain": [
       "<IPython.lib.display.IFrame at 0x1991d39efd0>"
      ]
     },
     "metadata": {},
     "output_type": "display_data"
    }
   ],
   "source": [
    "# Hent ferdigberegnet temperaturspenn (range) for begge byer\n",
    "df_oslo = ms.compute_all_months(\n",
    "    \"range(air_temperature P1D)\",\n",
    "    \"oslo\",\n",
    ")\n",
    "df_tromso = ms.compute_all_months(\n",
    "    \"range(air_temperature P1D)\",\n",
    "    \"tromso\",\n",
    ")\n",
    "\n",
    "# Legg til 'year', 'month' og 'temp_diff'\n",
    "for df in (df_oslo, df_tromso):\n",
    "    df[\"year_month\"] = pd.to_datetime(df[\"year_month\"])\n",
    "    df[\"year\"] = df[\"year_month\"].dt.year\n",
    "    df[\"month\"] = df[\"year_month\"].dt.month_name()\n",
    "    df[\"temp_diff\"] = df[\"mean\"]  # Gi nytt navn for bruk i figuren\n",
    "\n",
    "# Start Dash-app\n",
    "app = Dash(__name__)\n",
    "\n",
    "\n",
    "app.layout = html.Div(\n",
    "    [\n",
    "        html.H1(\"Temperature Range (Difference) per Month\"),\n",
    "        html.Label(\"City:\"),\n",
    "        dcc.Dropdown(\n",
    "            id=\"city-dropdown\",\n",
    "            options=[\n",
    "                {\"label\": \"Oslo\", \"value\": \"Oslo\"},\n",
    "                {\"label\": \"Tromsø\", \"value\": \"Tromsø\"},\n",
    "            ],\n",
    "            value=\"Oslo\",\n",
    "            clearable=False,\n",
    "        ),\n",
    "        html.Label(\"Month:\"),\n",
    "        dcc.Dropdown(\n",
    "            id=\"month-dropdown\",\n",
    "            options=[\n",
    "                {\"label\": m, \"value\": m}\n",
    "                for m in calendar.month_name[1:]\n",
    "            ],\n",
    "            value=\"January\",\n",
    "            clearable=False,\n",
    "        ),\n",
    "        html.Label(\"Start Year:\"),\n",
    "        dcc.Input(\n",
    "            id=\"start-year\",\n",
    "            type=\"number\",\n",
    "            value=2000,\n",
    "            min=2000,\n",
    "            max=2023,\n",
    "        ),\n",
    "        html.Label(\"End Year:\"),\n",
    "        dcc.Input(\n",
    "            id=\"end-year\",\n",
    "            type=\"number\",\n",
    "            value=2023,\n",
    "            min=2000,\n",
    "            max=2023,\n",
    "        ),\n",
    "        dcc.Graph(id=\"temperature-graph\"),\n",
    "    ],\n",
    ")\n",
    "\n",
    "\n",
    "@app.callback(\n",
    "    Output(\"temperature-graph\", \"figure\"),\n",
    "    Input(\"city-dropdown\", \"value\"),\n",
    "    Input(\"month-dropdown\", \"value\"),\n",
    "    Input(\"start-year\", \"value\"),\n",
    "    Input(\"end-year\", \"value\"),\n",
    ")\n",
    "def update_graph(\n",
    "    city: str,\n",
    "    month: str,\n",
    "    start_year: int,\n",
    "    end_year: int,\n",
    ") -> go.Figure:\n",
    "    \"\"\"Oppdater bar-chart basert på brukerens valg.\"\"\"\n",
    "    source_df = df_oslo if city == \"Oslo\" else df_tromso\n",
    "\n",
    "    df_filtered = source_df[\n",
    "        (source_df[\"year\"] >= start_year)\n",
    "        & (source_df[\"year\"] <= end_year)\n",
    "        & (source_df[\"month\"] == month)\n",
    "    ]\n",
    "\n",
    "    fig = px.bar(\n",
    "        df_filtered,\n",
    "        x=\"year\",\n",
    "        y=\"temp_diff\",\n",
    "        color=\"temp_diff\",\n",
    "        color_continuous_scale=\"YlOrRd\",\n",
    "        title=(\n",
    "            f\"Average Temperature Range for {month} – \"\n",
    "            f\"{city} ({start_year} to {end_year})\"\n",
    "        ),\n",
    "        labels={\"temp_diff\": \"Temp. Range (°C)\", \"year\": \"Year\"},\n",
    "    )\n",
    "    return fig\n",
    "\n",
    "\n",
    "if __name__ == \"__main__\":\n",
    "    app.run(debug=True, port=8052)"
   ]
  },
  {
   "cell_type": "markdown",
   "metadata": {},
   "source": [
    "## Sjekke data for bestemt dag basert på historikk"
   ]
  },
  {
   "cell_type": "code",
   "execution_count": null,
   "metadata": {},
   "outputs": [
    {
     "data": {
      "application/vnd.jupyter.widget-view+json": {
       "model_id": "97037799c4484029b17faf72216c3a8e",
       "version_major": 2,
       "version_minor": 0
      },
      "text/plain": [
       "IntSlider(value=5, description='Måned:', max=12, min=1)"
      ]
     },
     "metadata": {},
     "output_type": "display_data"
    },
    {
     "data": {
      "application/vnd.jupyter.widget-view+json": {
       "model_id": "bf1a41faf75f419e9a7e0eb1b4c20471",
       "version_major": 2,
       "version_minor": 0
      },
      "text/plain": [
       "IntSlider(value=17, description='Dag:', max=31, min=1)"
      ]
     },
     "metadata": {},
     "output_type": "display_data"
    },
    {
     "data": {
      "application/vnd.jupyter.widget-view+json": {
       "model_id": "9d0af3aa098b4767b3aa2b3de724fe73",
       "version_major": 2,
       "version_minor": 0
      },
      "text/plain": [
       "SelectMultiple(description='By(er):', index=(0,), options=('oslo', 'tromso'), value=('oslo',))"
      ]
     },
     "metadata": {},
     "output_type": "display_data"
    },
    {
     "data": {
      "application/vnd.jupyter.widget-view+json": {
       "model_id": "46b9eee25dc54fcd837b99b0dea4b23f",
       "version_major": 2,
       "version_minor": 0
      },
      "text/plain": [
       "Dropdown(description='Element:', options=('sum(precipitation_amount P1D)', 'max(air_temperature P1D)', 'mean(w…"
      ]
     },
     "metadata": {},
     "output_type": "display_data"
    },
    {
     "data": {
      "application/vnd.jupyter.widget-view+json": {
       "model_id": "4ec132c0463a4750bc61cdc39d31e858",
       "version_major": 2,
       "version_minor": 0
      },
      "text/plain": [
       "Dropdown(description='Time Offset:', options=('PT0H', 'PT6H', 'PT12H', 'PT18H'), value='PT0H')"
      ]
     },
     "metadata": {},
     "output_type": "display_data"
    },
    {
     "data": {
      "application/vnd.jupyter.widget-view+json": {
       "model_id": "4200b37e8d4440afa3046e784656b5a8",
       "version_major": 2,
       "version_minor": 0
      },
      "text/plain": [
       "Button(description='Vis statistikk', style=ButtonStyle())"
      ]
     },
     "metadata": {},
     "output_type": "display_data"
    },
    {
     "data": {
      "application/vnd.jupyter.widget-view+json": {
       "model_id": "3a8c64c8f81a4c079720e62b80a59457",
       "version_major": 2,
       "version_minor": 0
      },
      "text/plain": [
       "Output()"
      ]
     },
     "metadata": {},
     "output_type": "display_data"
    }
   ],
   "source": [
    "# Slidere og dropdowns\n",
    "dag_slider = widgets.IntSlider(\n",
    "    value=17,\n",
    "    min=1,\n",
    "    max=31,\n",
    "    description=\"Dag:\",\n",
    ")\n",
    "maaned_slider = widgets.IntSlider(\n",
    "    value=5,\n",
    "    min=1,\n",
    "    max=12,\n",
    "    description=\"Måned:\",\n",
    ")\n",
    "by_dropdown = widgets.SelectMultiple(\n",
    "    options=[\"oslo\", \"tromso\"],\n",
    "    value=[\"oslo\"],\n",
    "    description=\"By(er):\",\n",
    ")\n",
    "element_dropdown = widgets.Dropdown(\n",
    "    options=[\n",
    "        \"sum(precipitation_amount P1D)\",\n",
    "        \"max(air_temperature P1D)\",\n",
    "        \"mean(wind_speed P1D)\",\n",
    "    ],\n",
    "    value=\"sum(precipitation_amount P1D)\",\n",
    "    description=\"Element:\",\n",
    ")\n",
    "time_offset_dropdown = widgets.Dropdown(\n",
    "    options=[\"PT0H\", \"PT6H\", \"PT12H\", \"PT18H\"],\n",
    "    value=\"PT0H\",\n",
    "    description=\"Time Offset:\",\n",
    ")\n",
    "knapp = widgets.Button(description=\"Vis statistikk\")\n",
    "output = widgets.Output()\n",
    "\n",
    "\n",
    "def vis_statistikk(b) -> None:\n",
    "    \"\"\"Vis gjennomsnitt og outlier-info for valgt dag, måned og by(er).\"\"\"\n",
    "    with output:\n",
    "        clear_output()\n",
    "        dag = dag_slider.value\n",
    "        maaned = maaned_slider.value\n",
    "        valgte_byer = by_dropdown.value\n",
    "        element_id = element_dropdown.value\n",
    "        time_offset = time_offset_dropdown.value\n",
    "        visningsnavn = {\"oslo\": \"Oslo\", \"tromso\": \"Tromsø\"}\n",
    "        stats_data: dict[str, float] = {}\n",
    "\n",
    "        # Hent gjennomsnitt per by\n",
    "        for by in valgte_byer:\n",
    "            try:\n",
    "                df = loader._load_city(by)\n",
    "                df_filtered = df[\n",
    "                    (df[\"elementId\"] == element_id)\n",
    "                    & (df[\"timeOffset\"] == time_offset)\n",
    "                ].copy()\n",
    "                df_filtered[\"referenceTime\"] = pd.to_datetime(\n",
    "                    df_filtered[\"referenceTime\"], utc=True\n",
    "                )\n",
    "                df_filtered = df_filtered[\n",
    "                    (df_filtered[\"referenceTime\"].dt.month == maaned)\n",
    "                    & (df_filtered[\"referenceTime\"].dt.day == dag)\n",
    "                ]\n",
    "                df_filtered[\"value\"] = pd.to_numeric(\n",
    "                    df_filtered[\"value\"], errors=\"coerce\"\n",
    "                )\n",
    "\n",
    "                if not df_filtered.empty:\n",
    "                    stats_data[visningsnavn[by]] = df_filtered[\"value\"].mean()\n",
    "            except Exception as e:\n",
    "                print(f\"Feil ved behandling av data for {by}: {e}\")\n",
    "\n",
    "        if not stats_data:\n",
    "            print(\"Ingen data tilgjengelig for valgt dag/by.\")\n",
    "            return\n",
    "\n",
    "        # Plott gjennomsnitt\n",
    "        plt.figure(figsize=(10, 5))\n",
    "        plt.bar(stats_data.keys(), stats_data.values(), edgecolor=\"black\")\n",
    "        plt.title(f\"Gjennomsnittlig {element_id} for {dag:02d}.{maaned:02d}\")\n",
    "        plt.ylabel(\"Verdi\")\n",
    "        plt.grid(axis=\"y\")\n",
    "        plt.tight_layout()\n",
    "        plt.show()\n",
    "\n",
    "        # Skriv ut gjennomsnittsverdier\n",
    "        print(\"\\nGjennomsnittsverdier:\")\n",
    "        for navn, verdi in stats_data.items():\n",
    "            print(f\"{navn}: {verdi:.2f}\")\n",
    "\n",
    "        # Outlier-informasjon\n",
    "        print(\"\\nOutlier-informasjon:\")\n",
    "        for by_kode in valgte_byer:\n",
    "            try:\n",
    "                df = loader._load_city(by_kode)\n",
    "                df_filtered = df[\n",
    "                    (df[\"elementId\"] == element_id)\n",
    "                    & (df[\"timeOffset\"] == time_offset)\n",
    "                ].copy()\n",
    "                df_filtered[\"value\"] = pd.to_numeric(\n",
    "                    df_filtered[\"value\"], errors=\"coerce\"\n",
    "                )\n",
    "                mask = od.detect_iqr(df_filtered[\"value\"])\n",
    "                count = int(mask.sum())\n",
    "\n",
    "                navn = visningsnavn[by_kode]\n",
    "                if count > 0:\n",
    "                    print(f\"{navn}: {count} outliers funnet\")\n",
    "                else:\n",
    "                    print(f\"{navn}: Ingen outliers funnet\")\n",
    "            except Exception as e:\n",
    "                print(f\"Kunne ikke analysere outliers for {navn}: {e}\")\n",
    "\n",
    "\n",
    "knapp.on_click(vis_statistikk)\n",
    "display(\n",
    "    maaned_slider,\n",
    "    dag_slider,\n",
    "    by_dropdown,\n",
    "    element_dropdown,\n",
    "    time_offset_dropdown,\n",
    "    knapp,\n",
    "    output,\n",
    ")"
   ]
  }
 ],
 "metadata": {
  "kernelspec": {
   "display_name": "venv",
   "language": "python",
   "name": "python3"
  },
  "language_info": {
   "codemirror_mode": {
    "name": "ipython",
    "version": 3
   },
   "file_extension": ".py",
   "mimetype": "text/x-python",
   "name": "python",
   "nbconvert_exporter": "python",
   "pygments_lexer": "ipython3",
   "version": "3.13.2"
  }
 },
 "nbformat": 4,
 "nbformat_minor": 2
}
