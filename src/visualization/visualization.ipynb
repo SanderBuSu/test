{
 "cells": [
  {
   "cell_type": "markdown",
   "metadata": {},
   "source": [
    "## Felles import for alle kodeblokker"
   ]
  },
  {
   "cell_type": "code",
   "execution_count": 1,
   "metadata": {},
   "outputs": [],
   "source": [
    "import sys\n",
    "import calendar\n",
    "\n",
    "import pandas as pd\n",
    "import matplotlib.pyplot as plt\n",
    "import seaborn as sns\n",
    "import plotly.express as px\n",
    "import plotly.graph_objects as go\n",
    "from dash import Dash, html, dcc, Input, Output\n",
    "\n",
    "sys.path.append(\"../analysis\")\n",
    "\n",
    "from basedata import DataLoader\n",
    "from monthlystats import MonthlyStats\n",
    "from yearlystats import YearlyStats\n",
    "from outlieranalysis import OutlierAnalysis\n",
    "from outlierdetector import OutlierDetector\n",
    "\n",
    "loader = DataLoader(\"../../data/processed\")\n",
    "ms = MonthlyStats(\"../../data/processed\")\n",
    "ys = YearlyStats(\"../../data/processed\")\n",
    "oa = OutlierAnalysis(\"../../data/processed\")\n",
    "od = OutlierDetector()\n",
    "\n",
    "import sys\n",
    "sys.path.append(\"../analysis\")\n",
    "\n",
    "from yearlystats import YearlyStats\n",
    "from outlierdetector import OutlierDetector\n",
    "from basedata import DataLoader\n",
    "\n",
    "loader = DataLoader(\"../../data/processed\")\n",
    "ys = YearlyStats(\"../../data/processed\")\n",
    "od = OutlierDetector()\n",
    "\n",
    "\n",
    "import plotly.graph_objects as go\n",
    "from dash import Dash, html, dcc, Input, Output\n",
    "import calendar\n",
    "\n",
    "import pandas as pd\n",
    "import matplotlib.pyplot as plt\n",
    "import ipywidgets as widgets\n",
    "from IPython.display import display, clear_output"
   ]
  },
  {
   "cell_type": "markdown",
   "metadata": {},
   "source": [
    "## Tempratur forskjell by"
   ]
  },
  {
   "cell_type": "code",
   "execution_count": 2,
   "metadata": {},
   "outputs": [
    {
     "data": {
      "text/html": [
       "\n",
       "        <iframe\n",
       "            width=\"100%\"\n",
       "            height=\"650\"\n",
       "            src=\"http://127.0.0.1:8052/\"\n",
       "            frameborder=\"0\"\n",
       "            allowfullscreen\n",
       "            \n",
       "        ></iframe>\n",
       "        "
      ],
      "text/plain": [
       "<IPython.lib.display.IFrame at 0x1f80294aba0>"
      ]
     },
     "metadata": {},
     "output_type": "display_data"
    }
   ],
   "source": [
    "# Hent ferdigberegnet temperaturspenn (range) for begge byer\n",
    "df_oslo = ms.compute_all_months(\n",
    "    \"range(air_temperature P1D)\",\n",
    "    \"oslo\",\n",
    ")\n",
    "df_tromso = ms.compute_all_months(\n",
    "    \"range(air_temperature P1D)\",\n",
    "    \"tromso\",\n",
    ")\n",
    "\n",
    "# Legg til 'year', 'month' og 'temp_diff'\n",
    "for df in (df_oslo, df_tromso):\n",
    "    df[\"year_month\"] = pd.to_datetime(df[\"year_month\"])\n",
    "    df[\"year\"] = df[\"year_month\"].dt.year\n",
    "    df[\"month\"] = df[\"year_month\"].dt.month_name()\n",
    "    df[\"temp_diff\"] = df[\"mean\"]  # Gi nytt navn for bruk i figuren\n",
    "\n",
    "# Start Dash-app\n",
    "app = Dash(__name__)\n",
    "\n",
    "app.layout = html.Div(\n",
    "    [\n",
    "        html.H1(\"Temperature Range (Difference) per Month\"),\n",
    "        html.Label(\"City:\"),\n",
    "        dcc.Dropdown(\n",
    "            id=\"city-dropdown\",\n",
    "            options=[\n",
    "                {\"label\": \"Oslo\", \"value\": \"Oslo\"},\n",
    "                {\"label\": \"Tromsø\", \"value\": \"Tromsø\"},\n",
    "            ],\n",
    "            value=\"Oslo\",\n",
    "        ),\n",
    "        html.Label(\"Month:\"),\n",
    "        dcc.Dropdown(\n",
    "            id=\"month-dropdown\",\n",
    "            options=[\n",
    "                {\"label\": m, \"value\": m}\n",
    "                for m in calendar.month_name[1:]\n",
    "            ],\n",
    "            value=\"January\",\n",
    "        ),\n",
    "        html.Label(\"Start Year:\"),\n",
    "        dcc.Input(\n",
    "            id=\"start-year\",\n",
    "            type=\"number\",\n",
    "            value=2000,\n",
    "            min=2000,\n",
    "            max=2023,\n",
    "        ),\n",
    "        html.Label(\"End Year:\"),\n",
    "        dcc.Input(\n",
    "            id=\"end-year\",\n",
    "            type=\"number\",\n",
    "            value=2023,\n",
    "            min=2000,\n",
    "            max=2023,\n",
    "        ),\n",
    "        dcc.Graph(id=\"temperature-graph\"),\n",
    "    ]\n",
    ")\n",
    "\n",
    "@app.callback(\n",
    "    Output(\"temperature-graph\", \"figure\"),\n",
    "    Input(\"city-dropdown\", \"value\"),\n",
    "    Input(\"month-dropdown\", \"value\"),\n",
    "    Input(\"start-year\", \"value\"),\n",
    "    Input(\"end-year\", \"value\"),\n",
    ")\n",
    "def update_graph(city, month, start_year, end_year):\n",
    "    \"\"\"Oppdater bar-chart basert på brukerens valg.\"\"\"\n",
    "    if city == \"Oslo\":\n",
    "        source_df = df_oslo\n",
    "    else:\n",
    "        source_df = df_tromso\n",
    "\n",
    "    df_filtered = source_df[\n",
    "        (source_df[\"year\"] >= start_year)\n",
    "        & (source_df[\"year\"] <= end_year)\n",
    "        & (source_df[\"month\"] == month)\n",
    "    ]\n",
    "\n",
    "    fig = px.bar(\n",
    "        df_filtered,\n",
    "        x=\"year\",\n",
    "        y=\"temp_diff\",\n",
    "        color=\"temp_diff\",\n",
    "        color_continuous_scale=\"YlOrRd\",\n",
    "        title=(\n",
    "            f\"Average Temperature Range for {month} – \"\n",
    "            f\"{city} ({start_year} to {end_year})\"\n",
    "        ),\n",
    "        labels={\"temp_diff\": \"Temp. Range (°C)\", \"year\": \"Year\"},\n",
    "    )\n",
    "    return fig\n",
    "\n",
    "\n",
    "if __name__ == \"__main__\":\n",
    "    app.run(debug=True, port=8052)\n"
   ]
  },
  {
   "cell_type": "markdown",
   "metadata": {},
   "source": [
    "## Sjekke data for bestemt dag basert på historikk"
   ]
  },
  {
   "cell_type": "code",
   "execution_count": null,
   "metadata": {},
   "outputs": [
    {
     "data": {
      "application/vnd.jupyter.widget-view+json": {
       "model_id": "f60aa5c1a5b04ed2a423ac9a166f71c6",
       "version_major": 2,
       "version_minor": 0
      },
      "text/plain": [
       "IntSlider(value=5, description='Måned:', max=12, min=1)"
      ]
     },
     "metadata": {},
     "output_type": "display_data"
    },
    {
     "data": {
      "application/vnd.jupyter.widget-view+json": {
       "model_id": "a50da87ab43a4326b10544ba882686c3",
       "version_major": 2,
       "version_minor": 0
      },
      "text/plain": [
       "IntSlider(value=17, description='Dag:', max=31, min=1)"
      ]
     },
     "metadata": {},
     "output_type": "display_data"
    },
    {
     "data": {
      "application/vnd.jupyter.widget-view+json": {
       "model_id": "089693a2d8014fa2bc459ec9deca80a1",
       "version_major": 2,
       "version_minor": 0
      },
      "text/plain": [
       "SelectMultiple(description='By(er):', index=(0,), options=('oslo', 'tromso'), value=('oslo',))"
      ]
     },
     "metadata": {},
     "output_type": "display_data"
    },
    {
     "data": {
      "application/vnd.jupyter.widget-view+json": {
       "model_id": "c4639d724ecd49b5ae2058442e6ff53d",
       "version_major": 2,
       "version_minor": 0
      },
      "text/plain": [
       "Dropdown(description='Element:', options=('sum(precipitation_amount P1D)', 'max(air_temperature P1D)', 'mean(w…"
      ]
     },
     "metadata": {},
     "output_type": "display_data"
    },
    {
     "data": {
      "application/vnd.jupyter.widget-view+json": {
       "model_id": "61586b15d22b411fb050bb0c0fcacc43",
       "version_major": 2,
       "version_minor": 0
      },
      "text/plain": [
       "Dropdown(description='Time Offset:', options=('PT0H', 'PT6H', 'PT12H', 'PT18H'), value='PT0H')"
      ]
     },
     "metadata": {},
     "output_type": "display_data"
    },
    {
     "data": {
      "application/vnd.jupyter.widget-view+json": {
       "model_id": "d2bdc9541a464ccabe7c6866900164bf",
       "version_major": 2,
       "version_minor": 0
      },
      "text/plain": [
       "Button(description='Vis statistikk', style=ButtonStyle())"
      ]
     },
     "metadata": {},
     "output_type": "display_data"
    },
    {
     "data": {
      "application/vnd.jupyter.widget-view+json": {
       "model_id": "65eb66647957490091700c6bdcc60903",
       "version_major": 2,
       "version_minor": 0
      },
      "text/plain": [
       "Output()"
      ]
     },
     "metadata": {},
     "output_type": "display_data"
    }
   ],
   "source": [
    "\n",
    "dag_slider = widgets.IntSlider(value=17, min=1, max=31, description='Dag:')\n",
    "maaned_slider = widgets.IntSlider(value=5, min=1, max=12, description='Måned:')\n",
    "by_dropdown = widgets.SelectMultiple(\n",
    "    options=['oslo', 'tromso'],\n",
    "    value=['oslo'],\n",
    "    description='By(er):'\n",
    ")\n",
    "\n",
    "element_dropdown = widgets.Dropdown(\n",
    "    options=[\n",
    "        'sum(precipitation_amount P1D)',\n",
    "        'max(air_temperature P1D)',\n",
    "        'mean(wind_speed P1D)'\n",
    "    ],\n",
    "    value='sum(precipitation_amount P1D)',\n",
    "    description='Element:'\n",
    ")\n",
    "time_offset_dropdown = widgets.Dropdown(\n",
    "    options=['PT0H', 'PT6H', 'PT12H', 'PT18H'],\n",
    "    value='PT0H',\n",
    "    description='Time Offset:'\n",
    ")\n",
    "knapp = widgets.Button(description=\"Vis statistikk\")\n",
    "output = widgets.Output()\n",
    "def vis_statistikk(b):\n",
    "    with output:\n",
    "        clear_output()\n",
    "        dag = dag_slider.value\n",
    "        maaned = maaned_slider.value\n",
    "        valgte_byer = by_dropdown.value\n",
    "        element_id = element_dropdown.value\n",
    "        time_offset = time_offset_dropdown.value\n",
    "        by_visningsnavn = {'oslo': 'Oslo', 'tromso': 'Tromsø'}\n",
    "        stats_data = {}\n",
    "        \n",
    "        for by in valgte_byer:\n",
    "            try:\n",
    "                df = loader._load_city(by)\n",
    "                df_filtered = df[\n",
    "                    (df['elementId'] == element_id) &\n",
    "                    (df['timeOffset'] == time_offset)\n",
    "                ].copy()\n",
    "\n",
    "                df_filtered['referenceTime'] = pd.to_datetime(df_filtered['referenceTime'], utc=True)\n",
    "                df_filtered = df_filtered[\n",
    "                    (df_filtered['referenceTime'].dt.month == maaned) & \n",
    "                    (df_filtered['referenceTime'].dt.day == dag)\n",
    "                ]\n",
    "                \n",
    "                df_filtered['value'] = pd.to_numeric(df_filtered['value'], errors='coerce')\n",
    "                \n",
    "                if not df_filtered.empty:\n",
    "                    stats_data[by_visningsnavn[by]] = df_filtered['value'].mean()\n",
    "            except Exception as e:\n",
    "                print(f\"Feil ved behandling av data for {by}: {e}\")\n",
    "        if not stats_data:\n",
    "            print(\"Ingen data tilgjengelig for valgt dag/by.\")\n",
    "            return\n",
    "        \n",
    "        plt.figure(figsize=(10, 5))\n",
    "        plt.bar(stats_data.keys(), stats_data.values(), edgecolor='black')\n",
    "        plt.title(f\"Gjennomsnittlig {element_id} for {dag:02d}.{maaned:02d}\")\n",
    "        plt.ylabel('Verdi')\n",
    "        plt.grid(axis='y')\n",
    "        plt.tight_layout()\n",
    "        plt.show()\n",
    "        \n",
    "        print(\"\\nGjennomsnittsverdier:\")\n",
    "        for by, value in stats_data.items():\n",
    "            print(f\"{by}: {value:.2f}\")\n",
    "        \n",
    "        print(\"\\nOutlier-informasjon:\")\n",
    "        for by_kode, by_navn in zip(valgte_byer, [by_visningsnavn[b] for b in valgte_byer]):\n",
    "            try:\n",
    "                df = loader._load_city(by_kode)\n",
    "                df_filtered = df[\n",
    "                    (df['elementId'] == element_id) &\n",
    "                    (df['timeOffset'] == time_offset)\n",
    "                ].copy()\n",
    "                \n",
    "                df_filtered['value'] = pd.to_numeric(df_filtered['value'], errors='coerce')\n",
    "                \n",
    "                has_outliers = od.detect_iqr(df_filtered['value'])\n",
    "                outlier_count = has_outliers.sum()\n",
    "                \n",
    "                if outlier_count > 0:\n",
    "                    print(f\"{by_navn}: {outlier_count} outliers funnet\")\n",
    "                else:\n",
    "                    print(f\"{by_navn}: Ingen outliers funnet\")\n",
    "            except Exception as e:\n",
    "                print(f\"Kunne ikke analysere outliers for {by_navn}: {e}\")\n",
    "knapp.on_click(vis_statistikk)\n",
    "display(maaned_slider, dag_slider, by_dropdown, element_dropdown, time_offset_dropdown, knapp, output)"
   ]
  }
 ],
 "metadata": {
  "kernelspec": {
   "display_name": "venv",
   "language": "python",
   "name": "python3"
  },
  "language_info": {
   "codemirror_mode": {
    "name": "ipython",
    "version": 3
   },
   "file_extension": ".py",
   "mimetype": "text/x-python",
   "name": "python",
   "nbconvert_exporter": "python",
   "pygments_lexer": "ipython3",
   "version": "3.13.2"
  }
 },
 "nbformat": 4,
 "nbformat_minor": 2
}
