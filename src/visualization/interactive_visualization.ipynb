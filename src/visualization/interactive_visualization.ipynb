{
 "cells": [
  {
   "cell_type": "markdown",
   "id": "6b497a9a",
   "metadata": {},
   "source": [
    "## Interaktiv analyse med dash app"
   ]
  },
  {
   "cell_type": "code",
   "execution_count": 1,
   "id": "dbf4cf2f",
   "metadata": {},
   "outputs": [
    {
     "data": {
      "text/html": [
       "\n",
       "        <iframe\n",
       "            width=\"100%\"\n",
       "            height=\"650\"\n",
       "            src=\"http://127.0.0.1:8051/\"\n",
       "            frameborder=\"0\"\n",
       "            allowfullscreen\n",
       "            \n",
       "        ></iframe>\n",
       "        "
      ],
      "text/plain": [
       "<IPython.lib.display.IFrame at 0x26ec75fe660>"
      ]
     },
     "metadata": {},
     "output_type": "display_data"
    }
   ],
   "source": [
    "import sys\n",
    "sys.path.append(\"../analysis\")\n",
    "from analyses import DataAnalyzer\n",
    "\n",
    "import plotly.graph_objects as go\n",
    "from dash import Dash, html, dcc, Input, Output\n",
    "import calendar\n",
    "\n",
    "analyzer = DataAnalyzer(\"../../data/processed\")\n",
    "\n",
    "cities = [\"oslo\", \"tromso\"]\n",
    "element_ids = [\n",
    "    \"sum(precipitation_amount P1D)\",\n",
    "    \"mean(air_temperature P1D)\",\n",
    "    \"mean(wind_speed P1D)\",\n",
    "    \"max(air_temperature P1D)\",\n",
    "    \"min(air_temperature P1D)\",\n",
    "    \"range(air_temperature P1D)\"\n",
    "]\n",
    "\n",
    "app = Dash(__name__)\n",
    "app.title = \"Klimatologi med/uten outliers\"\n",
    "\n",
    "app.layout = html.Div(\n",
    "    style={\"maxWidth\": \"900px\", \"margin\": \"auto\"},\n",
    "    children=[\n",
    "        html.H1(\"Klimatologisk Månedsmiddel\"),\n",
    "\n",
    "        html.Label(\"Måletype (elementId):\"),\n",
    "        dcc.Dropdown(\n",
    "            id=\"element-dropdown\",\n",
    "            options=[{\"label\": e, \"value\": e} for e in element_ids],\n",
    "            value=element_ids[0],\n",
    "            clearable=False,\n",
    "        ),\n",
    "\n",
    "        html.Label(\"Statistikk:\"),\n",
    "        dcc.RadioItems(\n",
    "            id=\"stat-radio\",\n",
    "            options=[\n",
    "                {\"label\": \"Gjennomsnitt\", \"value\": \"mean\"},\n",
    "                {\"label\": \"Median\", \"value\": \"median\"},\n",
    "                {\"label\": \"Std.avvik\", \"value\": \"std\"},\n",
    "            ],\n",
    "            value=\"mean\",\n",
    "            inline=True,\n",
    "        ),\n",
    "\n",
    "        html.Label(\"Outliers:\"),\n",
    "        dcc.RadioItems(\n",
    "            id=\"outlier-radio\",\n",
    "            options=[\n",
    "                {\"label\": \"Ta med\", \"value\": \"med\"},\n",
    "                {\"label\": \"Uten\", \"value\": \"uten\"},\n",
    "            ],\n",
    "            value=\"med\",\n",
    "            inline=True,\n",
    "        ),\n",
    "\n",
    "        html.Label(\"By(er):\"),\n",
    "        dcc.Checklist(\n",
    "            id=\"city-checklist\",\n",
    "            options=[{\"label\": c.capitalize(), \"value\": c} for c in cities],\n",
    "            value=cities,\n",
    "            inline=True,\n",
    "        ),\n",
    "\n",
    "        dcc.Graph(id=\"climate-graph\"),\n",
    "    ],\n",
    ")\n",
    "\n",
    "@app.callback(\n",
    "    Output(\"climate-graph\", \"figure\"),\n",
    "    Input(\"element-dropdown\", \"value\"),\n",
    "    Input(\"stat-radio\", \"value\"),\n",
    "    Input(\"outlier-radio\", \"value\"),\n",
    "    Input(\"city-checklist\", \"value\"),\n",
    ")\n",
    "def update_graph(element_id, statistikk, outlier_choice, selected_cities):\n",
    "\n",
    "    fig = go.Figure()\n",
    "    month_order = [calendar.month_abbr[m].capitalize() for m in range(1, 13)]\n",
    "    remove = (outlier_choice == \"uten\")\n",
    "\n",
    "    for city in selected_cities:\n",
    "        df_klima = analyzer.langtidsmiddel_per_måned(\n",
    "            by=city,\n",
    "            element_id=element_id,\n",
    "            remove_outliers=remove,\n",
    "            statistikk=statistikk,\n",
    "        )\n",
    "        df_klima = df_klima.sort_values(\"month\")  # 1..12\n",
    "\n",
    "        fig.add_trace(\n",
    "            go.Bar(\n",
    "                x=df_klima[\"month_name\"],\n",
    "                y=df_klima[\"verdi\"],\n",
    "                name=city.capitalize(),\n",
    "            )\n",
    "        )\n",
    "\n",
    "    t_out = \"uten outliers\" if remove else \"med outliers\"\n",
    "    fig.update_layout(\n",
    "        title=f\"Klimatologisk {statistikk} per måned – {element_id} ({t_out})\",\n",
    "        xaxis_title=\"Måned\",\n",
    "        yaxis_title=\"Verdi\",\n",
    "        barmode=\"group\",\n",
    "        template=\"plotly_white\",\n",
    "        xaxis=dict(categoryorder=\"array\", categoryarray=month_order),\n",
    "    )\n",
    "    return fig\n",
    "\n",
    "\n",
    "if __name__ == \"__main__\":\n",
    "    app.run(debug=True, port=8051)"
   ]
  },
  {
   "cell_type": "markdown",
   "id": "719f9d22",
   "metadata": {},
   "source": [
    "### Sjekke data for bestemt dag basert på historikk. "
   ]
  },
  {
   "cell_type": "code",
   "execution_count": 2,
   "id": "db0df5ce",
   "metadata": {},
   "outputs": [
    {
     "data": {
      "application/vnd.jupyter.widget-view+json": {
       "model_id": "be8e5a753dd3497f9a3241e40dac23b9",
       "version_major": 2,
       "version_minor": 0
      },
      "text/plain": [
       "IntSlider(value=5, description='Måned:', max=12, min=1)"
      ]
     },
     "metadata": {},
     "output_type": "display_data"
    },
    {
     "data": {
      "application/vnd.jupyter.widget-view+json": {
       "model_id": "9071b40bef534bbe8b0987d6fbad484d",
       "version_major": 2,
       "version_minor": 0
      },
      "text/plain": [
       "IntSlider(value=17, description='Dag:', max=31, min=1)"
      ]
     },
     "metadata": {},
     "output_type": "display_data"
    },
    {
     "data": {
      "application/vnd.jupyter.widget-view+json": {
       "model_id": "3a249b4606e744b2920a5d94275c4452",
       "version_major": 2,
       "version_minor": 0
      },
      "text/plain": [
       "SelectMultiple(description='By(er):', index=(0,), options=('Oslo', 'Tromsø'), value=('Oslo',))"
      ]
     },
     "metadata": {},
     "output_type": "display_data"
    },
    {
     "data": {
      "application/vnd.jupyter.widget-view+json": {
       "model_id": "610ea9dced464015840af8d64258102d",
       "version_major": 2,
       "version_minor": 0
      },
      "text/plain": [
       "Button(description='Vis statistikk', style=ButtonStyle())"
      ]
     },
     "metadata": {},
     "output_type": "display_data"
    },
    {
     "data": {
      "application/vnd.jupyter.widget-view+json": {
       "model_id": "2a30691459414a9bb8cd1e55656fbbe0",
       "version_major": 2,
       "version_minor": 0
      },
      "text/plain": [
       "Output()"
      ]
     },
     "metadata": {},
     "output_type": "display_data"
    }
   ],
   "source": [
    "import pandas as pd\n",
    "import matplotlib.pyplot as plt\n",
    "import ipywidgets as widgets\n",
    "from IPython.display import display, clear_output\n",
    "\n",
    "# --- Last inn data for Oslo og Tromsø ---\n",
    "df_oslo = pd.read_csv(\"../../data/processed/vaerdata_oslo.csv\")\n",
    "df_tromso = pd.read_csv(\"../../data/processed/vaerdata_tromso.csv\")\n",
    "\n",
    "# Legg til by-kolonne\n",
    "df_oslo[\"city\"] = \"Oslo\"\n",
    "df_tromso[\"city\"] = \"Tromsø\"\n",
    "\n",
    "# Slå sammen\n",
    "df = pd.concat([df_oslo, df_tromso], ignore_index=True)\n",
    "\n",
    "# --- Forbered datasettet ---\n",
    "df['referenceTime'] = pd.to_datetime(df['referenceTime'])\n",
    "df['month'] = df['referenceTime'].dt.month\n",
    "df['day'] = df['referenceTime'].dt.day\n",
    "\n",
    "# Filtrer relevante målinger\n",
    "relevante_elementer = [\n",
    "    'sum(precipitation_amount P1D)',\n",
    "    'max(air_temperature P1D)',\n",
    "    'mean(wind_speed P1D)'\n",
    "]\n",
    "df = df[df['elementId'].isin(relevante_elementer)]\n",
    "\n",
    "# --- Interaktive widgets ---\n",
    "dag_slider = widgets.IntSlider(value=17, min=1, max=31, description='Dag:')\n",
    "maaned_slider = widgets.IntSlider(value=5, min=1, max=12, description='Måned:')\n",
    "\n",
    "by_dropdown = widgets.SelectMultiple(\n",
    "    options=['Oslo', 'Tromsø'],\n",
    "    value=['Oslo'],\n",
    "    description='By(er):'\n",
    ")\n",
    "\n",
    "knapp = widgets.Button(description=\"Vis statistikk\")\n",
    "output = widgets.Output()\n",
    "\n",
    "# --- Funksjon som viser grafen ---\n",
    "def vis_statistikk(b):\n",
    "    with output:\n",
    "        clear_output()\n",
    "        dag = dag_slider.value\n",
    "        maaned = maaned_slider.value\n",
    "        valgte_byer = by_dropdown.value\n",
    "\n",
    "        dagdata = df[\n",
    "            (df['month'] == maaned) &\n",
    "            (df['day'] == dag) &\n",
    "            (df['city'].isin(valgte_byer))\n",
    "        ]\n",
    "\n",
    "        if dagdata.empty:\n",
    "            print(\"Ingen data tilgjengelig for valgt dag/by.\")\n",
    "            return\n",
    "\n",
    "        # Gruppér og finn gjennomsnitt\n",
    "        stats = dagdata.groupby(['city', 'elementId'])['value'].mean().unstack()\n",
    "\n",
    "        # Plot\n",
    "        stats.plot(kind='bar', figsize=(10, 5), edgecolor='black')\n",
    "        plt.title(f\"Gjennomsnittlig vær for {dag:02d}.{maaned:02d}\")\n",
    "        plt.ylabel('Verdi')\n",
    "        plt.xticks(rotation=0)\n",
    "        plt.legend(title='Måling')\n",
    "        plt.grid(axis='y')\n",
    "        plt.tight_layout()\n",
    "        plt.show()\n",
    "\n",
    "        print(\"\\nGjennomsnittsverdier:\")\n",
    "        for by in stats.index:\n",
    "            print(f\"\\n{by}:\")\n",
    "            for col in stats.columns:\n",
    "                print(f\"  {col}: {stats.loc[by, col]:.2f}\")\n",
    "\n",
    "# --- Koble knapp til funksjon ---\n",
    "knapp.on_click(vis_statistikk)\n",
    "\n",
    "# --- Vis widgets og output ---\n",
    "display(maaned_slider, dag_slider, by_dropdown, knapp, output)\n"
   ]
  }
 ],
 "metadata": {
  "kernelspec": {
   "display_name": "venv",
   "language": "python",
   "name": "python3"
  },
  "language_info": {
   "codemirror_mode": {
    "name": "ipython",
    "version": 3
   },
   "file_extension": ".py",
   "mimetype": "text/x-python",
   "name": "python",
   "nbconvert_exporter": "python",
   "pygments_lexer": "ipython3",
   "version": "3.13.2"
  }
 },
 "nbformat": 4,
 "nbformat_minor": 5
}
