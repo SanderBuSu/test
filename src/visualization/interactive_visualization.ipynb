{
 "cells": [
  {
   "cell_type": "markdown",
   "id": "eb64a474",
   "metadata": {},
   "source": [
    "## Felles import for alle kodeblokker"
   ]
  },
  {
   "cell_type": "code",
   "execution_count": 1,
   "id": "c437755d",
   "metadata": {},
   "outputs": [],
   "source": [
    "import sys\n",
    "sys.path.append(\"../analysis\")\n",
    "from analysis import DataAnalyzer\n",
    "analyzer = DataAnalyzer(\"../../data/processed\")\n",
    "\n",
    "import plotly.graph_objects as go\n",
    "from dash import Dash, html, dcc, Input, Output\n",
    "import calendar\n",
    "\n",
    "import pandas as pd\n",
    "import matplotlib.pyplot as plt\n",
    "import ipywidgets as widgets\n",
    "from IPython.display import display, clear_output"
   ]
  },
  {
   "cell_type": "markdown",
   "id": "6b497a9a",
   "metadata": {},
   "source": [
    "## Interaktiv analyse med dash app"
   ]
  },
  {
   "cell_type": "code",
   "execution_count": 2,
   "id": "dbf4cf2f",
   "metadata": {},
   "outputs": [
    {
     "data": {
      "text/html": [
       "\n",
       "        <iframe\n",
       "            width=\"100%\"\n",
       "            height=\"650\"\n",
       "            src=\"http://127.0.0.1:8051/\"\n",
       "            frameborder=\"0\"\n",
       "            allowfullscreen\n",
       "            \n",
       "        ></iframe>\n",
       "        "
      ],
      "text/plain": [
       "<IPython.lib.display.IFrame at 0x1f120c83cb0>"
      ]
     },
     "metadata": {},
     "output_type": "display_data"
    }
   ],
   "source": [
    "cities = [\"oslo\", \"tromso\"]\n",
    "element_ids = [\n",
    "    \"sum(precipitation_amount P1D)\",\n",
    "    \"mean(air_temperature P1D)\",\n",
    "    \"mean(wind_speed P1D)\",\n",
    "    \"max(air_temperature P1D)\",\n",
    "    \"min(air_temperature P1D)\",\n",
    "    \"range(air_temperature P1D)\"\n",
    "]\n",
    "\n",
    "app = Dash(__name__)\n",
    "app.title = \"Klimatologi med/uten outliers\"\n",
    "\n",
    "app.layout = html.Div(\n",
    "    style={\"maxWidth\": \"900px\", \"margin\": \"auto\"},\n",
    "    children=[\n",
    "        html.H1(\"Klimatologisk Månedsmiddel\"),\n",
    "\n",
    "        html.Label(\"Måletype (elementId):\"),\n",
    "        dcc.Dropdown(\n",
    "            id=\"element-dropdown\",\n",
    "            options=[{\"label\": e, \"value\": e} for e in element_ids],\n",
    "            value=element_ids[0],\n",
    "            clearable=False,\n",
    "        ),\n",
    "\n",
    "        html.Label(\"Statistikk:\"),\n",
    "        dcc.RadioItems(\n",
    "            id=\"stat-radio\",\n",
    "            options=[\n",
    "                {\"label\": \"Gjennomsnitt\", \"value\": \"mean\"},\n",
    "                {\"label\": \"Median\", \"value\": \"median\"},\n",
    "                {\"label\": \"Std.avvik\", \"value\": \"std\"},\n",
    "            ],\n",
    "            value=\"mean\",\n",
    "            inline=True,\n",
    "        ),\n",
    "\n",
    "        html.Label(\"Outliers:\"),\n",
    "        dcc.RadioItems(\n",
    "            id=\"outlier-radio\",\n",
    "            options=[\n",
    "                {\"label\": \"Ta med\", \"value\": \"med\"},\n",
    "                {\"label\": \"Uten\", \"value\": \"uten\"},\n",
    "            ],\n",
    "            value=\"med\",\n",
    "            inline=True,\n",
    "        ),\n",
    "\n",
    "        html.Label(\"By(er):\"),\n",
    "        dcc.Checklist(\n",
    "            id=\"city-checklist\",\n",
    "            options=[{\"label\": c.capitalize(), \"value\": c} for c in cities],\n",
    "            value=cities,\n",
    "            inline=True,\n",
    "        ),\n",
    "\n",
    "        dcc.Graph(id=\"climate-graph\"),\n",
    "    ],\n",
    ")\n",
    "\n",
    "@app.callback(\n",
    "    Output(\"climate-graph\", \"figure\"),\n",
    "    Input(\"element-dropdown\", \"value\"),\n",
    "    Input(\"stat-radio\", \"value\"),\n",
    "    Input(\"outlier-radio\", \"value\"),\n",
    "    Input(\"city-checklist\", \"value\"),\n",
    ")\n",
    "def update_graph(element_id, statistikk, outlier_choice, selected_cities):\n",
    "\n",
    "    fig = go.Figure()\n",
    "    month_order = [calendar.month_abbr[m].capitalize() for m in range(1, 13)]\n",
    "    remove = (outlier_choice == \"uten\")\n",
    "\n",
    "    for city in selected_cities:\n",
    "        df_klima = analyzer.langtidsmiddel_per_måned(\n",
    "            by=city,\n",
    "            element_id=element_id,\n",
    "            remove_outliers=remove,\n",
    "            statistikk=statistikk,\n",
    "        )\n",
    "        df_klima = df_klima.sort_values(\"month\")\n",
    "\n",
    "        fig.add_trace(\n",
    "            go.Bar(\n",
    "                x=df_klima[\"month_name\"],\n",
    "                y=df_klima[\"verdi\"],\n",
    "                name=city.capitalize(),\n",
    "            )\n",
    "        )\n",
    "\n",
    "    t_out = \"uten outliers\" if remove else \"med outliers\"\n",
    "    fig.update_layout(\n",
    "        title=f\"Klimatologisk {statistikk} per måned – {element_id} ({t_out})\",\n",
    "        xaxis_title=\"Måned\",\n",
    "        yaxis_title=\"Verdi\",\n",
    "        barmode=\"group\",\n",
    "        template=\"plotly_white\",\n",
    "        xaxis=dict(categoryorder=\"array\", categoryarray=month_order),\n",
    "    )\n",
    "    return fig\n",
    "\n",
    "\n",
    "if __name__ == \"__main__\":\n",
    "    app.run(debug=True, port=8051)"
   ]
  },
  {
   "cell_type": "markdown",
   "id": "719f9d22",
   "metadata": {},
   "source": [
    "### Sjekke data for bestemt dag basert på historikk. "
   ]
  },
  {
   "cell_type": "code",
   "execution_count": null,
   "id": "db0df5ce",
   "metadata": {},
   "outputs": [
    {
     "data": {
      "application/vnd.jupyter.widget-view+json": {
       "model_id": "e870dc9aa3cd46919698ac56cfd24790",
       "version_major": 2,
       "version_minor": 0
      },
      "text/plain": [
       "IntSlider(value=5, description='Måned:', max=12, min=1)"
      ]
     },
     "metadata": {},
     "output_type": "display_data"
    },
    {
     "data": {
      "application/vnd.jupyter.widget-view+json": {
       "model_id": "bb3a236a992e425f8f81a849368df220",
       "version_major": 2,
       "version_minor": 0
      },
      "text/plain": [
       "IntSlider(value=17, description='Dag:', max=31, min=1)"
      ]
     },
     "metadata": {},
     "output_type": "display_data"
    },
    {
     "data": {
      "application/vnd.jupyter.widget-view+json": {
       "model_id": "5167f5e51e8640f0b5e366c30e4fe625",
       "version_major": 2,
       "version_minor": 0
      },
      "text/plain": [
       "SelectMultiple(description='By(er):', index=(0,), options=('oslo', 'tromso'), value=('oslo',))"
      ]
     },
     "metadata": {},
     "output_type": "display_data"
    },
    {
     "data": {
      "application/vnd.jupyter.widget-view+json": {
       "model_id": "ae60ea9e62fe424bb2590cb8b71c6366",
       "version_major": 2,
       "version_minor": 0
      },
      "text/plain": [
       "Dropdown(description='Element:', options=('sum(precipitation_amount P1D)', 'max(air_temperature P1D)', 'mean(w…"
      ]
     },
     "metadata": {},
     "output_type": "display_data"
    },
    {
     "data": {
      "application/vnd.jupyter.widget-view+json": {
       "model_id": "37ace4c08bca406fa33e2c0c114fd4f7",
       "version_major": 2,
       "version_minor": 0
      },
      "text/plain": [
       "Dropdown(description='Time Offset:', options=('PT0H', 'PT6H', 'PT12H', 'PT18H'), value='PT0H')"
      ]
     },
     "metadata": {},
     "output_type": "display_data"
    },
    {
     "data": {
      "application/vnd.jupyter.widget-view+json": {
       "model_id": "34e2faaab05e4257ae02c532ae1cca64",
       "version_major": 2,
       "version_minor": 0
      },
      "text/plain": [
       "Button(description='Vis statistikk', style=ButtonStyle())"
      ]
     },
     "metadata": {},
     "output_type": "display_data"
    },
    {
     "data": {
      "application/vnd.jupyter.widget-view+json": {
       "model_id": "09ab55b0941d4738b3fa9477065a3d87",
       "version_major": 2,
       "version_minor": 0
      },
      "text/plain": [
       "Output()"
      ]
     },
     "metadata": {},
     "output_type": "display_data"
    }
   ],
   "source": [
    "\n",
    "dag_slider = widgets.IntSlider(value=17, min=1, max=31, description='Dag:')\n",
    "maaned_slider = widgets.IntSlider(value=5, min=1, max=12, description='Måned:')\n",
    "by_dropdown = widgets.SelectMultiple(\n",
    "    options=['oslo', 'tromso'],\n",
    "    value=['oslo'],\n",
    "    description='By(er):'\n",
    ")\n",
    "\n",
    "element_dropdown = widgets.Dropdown(\n",
    "    options=[\n",
    "        'sum(precipitation_amount P1D)',\n",
    "        'max(air_temperature P1D)',\n",
    "        'mean(wind_speed P1D)'\n",
    "    ],\n",
    "    value='sum(precipitation_amount P1D)',\n",
    "    description='Element:'\n",
    ")\n",
    "time_offset_dropdown = widgets.Dropdown(\n",
    "    options=['PT0H', 'PT6H', 'PT12H', 'PT18H'],\n",
    "    value='PT0H',\n",
    "    description='Time Offset:'\n",
    ")\n",
    "knapp = widgets.Button(description=\"Vis statistikk\")\n",
    "output = widgets.Output()\n",
    "def vis_statistikk(b):\n",
    "    with output:\n",
    "        clear_output()\n",
    "        dag = dag_slider.value\n",
    "        maaned = maaned_slider.value\n",
    "        valgte_byer = by_dropdown.value\n",
    "        element_id = element_dropdown.value\n",
    "        time_offset = time_offset_dropdown.value\n",
    "        by_visningsnavn = {'oslo': 'Oslo', 'tromso': 'Tromsø'}\n",
    "        stats_data = {}\n",
    "        \n",
    "        for by in valgte_byer:\n",
    "            try:\n",
    "                df = analyzer.stats._load_city(by)\n",
    "                df_filtered = df[\n",
    "                    (df['elementId'] == element_id) &\n",
    "                    (df['timeOffset'] == time_offset)\n",
    "                ].copy()\n",
    "\n",
    "                df_filtered['referenceTime'] = pd.to_datetime(df_filtered['referenceTime'], utc=True)\n",
    "                df_filtered = df_filtered[\n",
    "                    (df_filtered['referenceTime'].dt.month == maaned) & \n",
    "                    (df_filtered['referenceTime'].dt.day == dag)\n",
    "                ]\n",
    "                \n",
    "                df_filtered['value'] = pd.to_numeric(df_filtered['value'], errors='coerce')\n",
    "                \n",
    "                if not df_filtered.empty:\n",
    "                    stats_data[by_visningsnavn[by]] = df_filtered['value'].mean()\n",
    "            except Exception as e:\n",
    "                print(f\"Feil ved behandling av data for {by}: {e}\")\n",
    "        if not stats_data:\n",
    "            print(\"Ingen data tilgjengelig for valgt dag/by.\")\n",
    "            return\n",
    "        \n",
    "        plt.figure(figsize=(10, 5))\n",
    "        plt.bar(stats_data.keys(), stats_data.values(), edgecolor='black')\n",
    "        plt.title(f\"Gjennomsnittlig {element_id} for {dag:02d}.{maaned:02d}\")\n",
    "        plt.ylabel('Verdi')\n",
    "        plt.grid(axis='y')\n",
    "        plt.tight_layout()\n",
    "        plt.show()\n",
    "        \n",
    "        print(\"\\nGjennomsnittsverdier:\")\n",
    "        for by, verdi in stats_data.items():\n",
    "            print(f\"{by}: {verdi:.2f}\")\n",
    "        \n",
    "        print(\"\\nOutlier-informasjon:\")\n",
    "        for by_kode, by_navn in zip(valgte_byer, [by_visningsnavn[b] for b in valgte_byer]):\n",
    "            try:\n",
    "                df = analyzer.stats._load_city(by_kode)\n",
    "                df_filtered = df[\n",
    "                    (df['elementId'] == element_id) &\n",
    "                    (df['timeOffset'] == time_offset)\n",
    "                ].copy()\n",
    "                \n",
    "                df_filtered['value'] = pd.to_numeric(df_filtered['value'], errors='coerce')\n",
    "                \n",
    "                has_outliers = analyzer.detector.detect_iqr(df_filtered['value'])\n",
    "                outlier_count = has_outliers.sum()\n",
    "                \n",
    "                if outlier_count > 0:\n",
    "                    print(f\"{by_navn}: {outlier_count} outliers funnet\")\n",
    "                else:\n",
    "                    print(f\"{by_navn}: Ingen outliers funnet\")\n",
    "            except Exception as e:\n",
    "                print(f\"Kunne ikke analysere outliers for {by_navn}: {e}\")\n",
    "knapp.on_click(vis_statistikk)\n",
    "display(maaned_slider, dag_slider, by_dropdown, element_dropdown, time_offset_dropdown, knapp, output)"
   ]
  }
 ],
 "metadata": {
  "kernelspec": {
   "display_name": "venv",
   "language": "python",
   "name": "python3"
  },
  "language_info": {
   "codemirror_mode": {
    "name": "ipython",
    "version": 3
   },
   "file_extension": ".py",
   "mimetype": "text/x-python",
   "name": "python",
   "nbconvert_exporter": "python",
   "pygments_lexer": "ipython3",
   "version": "3.13.2"
  }
 },
 "nbformat": 4,
 "nbformat_minor": 5
}
