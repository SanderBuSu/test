{
 "cells": [
  {
   "cell_type": "code",
   "execution_count": null,
   "id": "d738a546",
   "metadata": {},
   "outputs": [
    {
     "name": "stdout",
     "output_type": "stream",
     "text": [
      "Data lagret til ../data/raw/vaerdata.json\n"
     ]
    }
   ],
   "source": [
    "import os\n",
    "from dotenv import load_dotenv\n",
    "from fetchvaerdata import WeatherFetcher\n",
    "\n",
    "# Hent sti til .env-filen (to nivåer opp)\n",
    "notebook_dir = os.getcwd()\n",
    "env_path = os.path.abspath(os.path.join(notebook_dir, \"../../.env\"))\n",
    "load_dotenv(env_path)\n",
    "\n",
    "# Henter CLIENT_ID fra .env-fil\n",
    "client_id = os.getenv(\"CLIENT_ID\")\n",
    "\n",
    "if __name__ == \"__main__\":\n",
    "    # Opprett en instans av WeatherFetcher med klient-ID-en\n",
    "    weather_fetcher = WeatherFetcher(client_id)\n",
    "    \n",
    "    # Henter værdata\n",
    "    data = weather_fetcher.fetch_weather_data()\n",
    "    \n",
    "    # Skriver værdata til en JSON-fil\n",
    "    output_file = \"../data/raw/vaerdata.json\"\n",
    "    weather_fetcher.write_json_to_file(data, output_file)\n",
    "    \n",
    "    # Bekrefter at data er lagret\n",
    "    print(f\"Data lagret til {output_file}\")"
   ]
  }
 ],
 "metadata": {
  "kernelspec": {
   "display_name": "venv",
   "language": "python",
   "name": "python3"
  },
  "language_info": {
   "codemirror_mode": {
    "name": "ipython",
    "version": 3
   },
   "file_extension": ".py",
   "mimetype": "text/x-python",
   "name": "python",
   "nbconvert_exporter": "python",
   "pygments_lexer": "ipython3",
   "version": "3.13.2"
  }
 },
 "nbformat": 4,
 "nbformat_minor": 5
}
