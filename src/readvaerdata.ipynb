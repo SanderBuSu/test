{
 "cells": [
  {
   "cell_type": "code",
   "execution_count": 10,
   "id": "e0fc95bf",
   "metadata": {},
   "outputs": [
    {
     "name": "stdout",
     "output_type": "stream",
     "text": [
      "JSON-data lastet inn.\n",
      "Antall poster i 'data': 18262\n",
      "\n",
      "DataFrame-oversikt:\n",
      "    sourceId             referenceTime timeOffset  \\\n",
      "0  SN18700:0  2000-01-01T00:00:00.000Z       PT0H   \n",
      "1  SN18700:0  2000-01-01T00:00:00.000Z       PT6H   \n",
      "2  SN18700:0  2000-01-01T00:00:00.000Z      PT18H   \n",
      "3  SN18700:0  2000-01-01T00:00:00.000Z      PT18H   \n",
      "4  SN18700:0  2000-01-01T00:00:00.000Z      PT18H   \n",
      "\n",
      "                       elementId  value  unit  \n",
      "0      mean(air_temperature P1D)   -5.0  degC  \n",
      "1      mean(air_temperature P1D)   -9.5  degC  \n",
      "2       min(air_temperature P1D)   -8.6  degC  \n",
      "3       max(air_temperature P1D)   -3.2  degC  \n",
      "4  sum(precipitation_amount P1D)    8.4    mm  \n",
      "\n",
      "--- Verifiserer at vi har data fra begge lokasjoner ---\n",
      "    sourceId  num_entries\n",
      "0  SN18700:0        74816\n",
      "1  SN90450:0        75093\n",
      "\n",
      "--- Antall unike dager med data per by ---\n",
      "    sourceId  unique_days\n",
      "0  SN18700:0         9131\n",
      "1  SN90450:0         9131\n",
      "Lagrer data for Tromso til: /Users/mathiasstrom/Anvendt_Prog/src/../data/processed/vaerdata_tromso.csv\n",
      "Lagrer data for Oslo til: /Users/mathiasstrom/Anvendt_Prog/src/../data/processed/vaerdata_oslo.csv\n"
     ]
    }
   ],
   "source": [
    "import os\n",
    "from weatherconverter import WeatherConverter\n",
    "\n",
    "if __name__ == \"__main__\":\n",
    "    base_dir = os.getcwd()\n",
    "\n",
    "    json_path = os.path.join(base_dir, \"..\", \"data\", \"raw\", \"vaerdata.json\")\n",
    "    output_dir = os.path.join(base_dir, \"..\", \"data\", \"processed\")\n",
    "\n",
    "    os.makedirs(output_dir, exist_ok=True)\n",
    "\n",
    "    converter = WeatherConverter(json_path, output_dir)\n",
    "    data = converter.load_data()\n",
    "    converter.convert_to_dataframe(data)\n",
    "    converter.run_queries()\n",
    "    converter.save_city_data()\n"
   ]
  }
 ],
 "metadata": {
  "kernelspec": {
   "display_name": "venv",
   "language": "python",
   "name": "python3"
  },
  "language_info": {
   "codemirror_mode": {
    "name": "ipython",
    "version": 3
   },
   "file_extension": ".py",
   "mimetype": "text/x-python",
   "name": "python",
   "nbconvert_exporter": "python",
   "pygments_lexer": "ipython3",
   "version": "3.13.2"
  }
 },
 "nbformat": 4,
 "nbformat_minor": 5
}
