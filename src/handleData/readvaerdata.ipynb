{
 "cells": [
  {
   "cell_type": "code",
   "execution_count": 2,
   "id": "e0fc95bf",
   "metadata": {},
   "outputs": [
    {
     "name": "stdout",
     "output_type": "stream",
     "text": [
      "JSON-data lastet inn.\n",
      "DataFrame opprettet.\n",
      "    sourceId  num_entries\n",
      "0  SN18700:0        74816\n",
      "1  SN90450:0        75093\n",
      "Lagrer data for Tromso til: ../../data/processed\\vaerdata_tromso.csv\n",
      "Lagrer data for Oslo til: ../../data/processed\\vaerdata_oslo.csv\n"
     ]
    }
   ],
   "source": [
    "from weatherconverter import WeatherConverter\n",
    "\n",
    "json_path = \"../../data/raw/vaerdata.json\"\n",
    "output_dir = \"../../data/processed\"\n",
    "\n",
    "converter = WeatherConverter(json_path, output_dir)\n",
    "data = converter.load_data()\n",
    "converter.convert_to_dataframe()\n",
    "converter.run_queries()\n",
    "converter.save_city_data() "
   ]
  },
  {
   "cell_type": "code",
   "execution_count": 3,
   "id": "20f1ebec",
   "metadata": {},
   "outputs": [
    {
     "name": "stdout",
     "output_type": "stream",
     "text": [
      "Oppdatert fil: ../../data/processed\\vaerdata_oslo.csv\n",
      "Oppdatert fil: ../../data/processed\\vaerdata_tromso.csv\n"
     ]
    }
   ],
   "source": [
    "# Legg til konvertering av max og min temperaturer til range, for å vise endring i temperaturer ila en dag\n",
    "from temperaturechange import TemperatureRangeConverter\n",
    "\n",
    "converter = TemperatureRangeConverter(output_dir)\n",
    "converter.run()"
   ]
  }
 ],
 "metadata": {
  "kernelspec": {
   "display_name": "venv",
   "language": "python",
   "name": "python3"
  },
  "language_info": {
   "codemirror_mode": {
    "name": "ipython",
    "version": 3
   },
   "file_extension": ".py",
   "mimetype": "text/x-python",
   "name": "python",
   "nbconvert_exporter": "python",
   "pygments_lexer": "ipython3",
   "version": "3.13.2"
  }
 },
 "nbformat": 4,
 "nbformat_minor": 5
}
