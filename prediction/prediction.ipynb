{
 "cells": [
  {
   "cell_type": "code",
   "execution_count": 1,
   "id": "edc87a4f",
   "metadata": {},
   "outputs": [
    {
     "ename": "NameError",
     "evalue": "name 'data_oslo' is not defined",
     "output_type": "error",
     "traceback": [
      "\u001b[31m---------------------------------------------------------------------------\u001b[39m",
      "\u001b[31mNameError\u001b[39m                                 Traceback (most recent call last)",
      "\u001b[36mCell\u001b[39m\u001b[36m \u001b[39m\u001b[32mIn[1]\u001b[39m\u001b[32m, line 7\u001b[39m\n\u001b[32m      3\u001b[39m \u001b[38;5;28;01mfrom\u001b[39;00m\u001b[38;5;250m \u001b[39m\u001b[34;01msklearn\u001b[39;00m\u001b[34;01m.\u001b[39;00m\u001b[34;01mmetrics\u001b[39;00m\u001b[38;5;250m \u001b[39m\u001b[38;5;28;01mimport\u001b[39;00m mean_squared_error\n\u001b[32m      5\u001b[39m \u001b[38;5;66;03m# Eksempel: Predikere neste dags nedbør basert på dagens temperatur og vindhastighet\u001b[39;00m\n\u001b[32m      6\u001b[39m \u001b[38;5;66;03m# Merk: Tilpass variabelene slik at de reflekterer de relevante faktorene for ekstremvær\u001b[39;00m\n\u001b[32m----> \u001b[39m\u001b[32m7\u001b[39m features = \u001b[43mdata_oslo\u001b[49m[data_oslo[\u001b[33m'\u001b[39m\u001b[33melementId\u001b[39m\u001b[33m'\u001b[39m].isin([\u001b[33m'\u001b[39m\u001b[33mmean(air_temperature P1D)\u001b[39m\u001b[33m'\u001b[39m, \u001b[33m'\u001b[39m\u001b[33mmean(wind_speed P1D)\u001b[39m\u001b[33m'\u001b[39m])]\n\u001b[32m      8\u001b[39m target = data_oslo[data_oslo[\u001b[33m'\u001b[39m\u001b[33melementId\u001b[39m\u001b[33m'\u001b[39m] == \u001b[33m'\u001b[39m\u001b[33msum(precipitation_amount P1D)\u001b[39m\u001b[33m'\u001b[39m]\n\u001b[32m     10\u001b[39m \u001b[38;5;66;03m# Forutsetter at datasettene er slått sammen på en hensiktsmessig måte, f.eks. etter 'referenceTime'\u001b[39;00m\n",
      "\u001b[31mNameError\u001b[39m: name 'data_oslo' is not defined"
     ]
    }
   ],
   "source": [
    "from sklearn.model_selection import train_test_split\n",
    "from sklearn.linear_model import LinearRegression\n",
    "from sklearn.metrics import mean_squared_error\n",
    "\n",
    "# Eksempel: Predikere neste dags nedbør basert på dagens temperatur og vindhastighet\n",
    "# Merk: Tilpass variabelene slik at de reflekterer de relevante faktorene for ekstremvær\n",
    "features = data_oslo[data_oslo['elementId'].isin(['mean(air_temperature P1D)', 'mean(wind_speed P1D)'])]\n",
    "target = data_oslo[data_oslo['elementId'] == 'sum(precipitation_amount P1D)']\n",
    "\n",
    "# Forutsetter at datasettene er slått sammen på en hensiktsmessig måte, f.eks. etter 'referenceTime'\n",
    "merged = pd.merge(features[['referenceTime','value']], target[['referenceTime','value']], on='referenceTime', suffixes=('_feature', '_target'))\n",
    "X = merged[['value_feature']]  # Juster etter hvor mange features du har\n",
    "y = merged['value_target']\n",
    "\n",
    "X_train, X_test, y_train, y_test = train_test_split(X, y, test_size=0.2, random_state=42)\n",
    "lin_reg = LinearRegression()\n",
    "lin_reg.fit(X_train, y_train)\n",
    "predictions = lin_reg.predict(X_test)\n",
    "\n",
    "mse = mean_squared_error(y_test, predictions)\n",
    "print(\"Mean Squared Error:\", mse)\n"
   ]
  }
 ],
 "metadata": {
  "kernelspec": {
   "display_name": "venv",
   "language": "python",
   "name": "python3"
  },
  "language_info": {
   "codemirror_mode": {
    "name": "ipython",
    "version": 3
   },
   "file_extension": ".py",
   "mimetype": "text/x-python",
   "name": "python",
   "nbconvert_exporter": "python",
   "pygments_lexer": "ipython3",
   "version": "3.13.2"
  }
 },
 "nbformat": 4,
 "nbformat_minor": 5
}
