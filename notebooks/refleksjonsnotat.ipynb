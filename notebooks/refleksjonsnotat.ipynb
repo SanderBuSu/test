{
 "cells": [
  {
   "cell_type": "markdown",
   "id": "839a8359",
   "metadata": {},
   "source": [
    "# Refleksjonsnotat - Miljødataanalyseapplikasjon\n",
    "\n",
    "## Læringsprosess\n",
    "\n",
    "### Nye ferdigheter\n",
    "\n",
    "I jobbingen med prosjektet tilegnet gruppen seg mye ny kunnskap. Ved å bruke blant annet Pandas for å håndtere data har hver av medlemmene fått et nytt verktøy i arsenalet sitt. Videre i datahåndteringen var også mye av funksjonaliteten bak visualisering og prediksjon nytt, i hvert fall i kontekst av prosjektet. Særlig henting av data fra API og bruk av Plotly var ukjent for alle, men relativt greit å ta i bruk. Å skulle ta hensyn til manglende data var overraskende greit å håndtere.\n",
    "\n",
    "Prosjektstrukturen hvor funksjonaliteten er klasser som legges i src-mappen var også ukjent for alle, men ble fort høyt verdsatt. Det var fint å ha egne klasser for hver funksjonalitet som hentes inn i Notebooks der det trengs. Det gjorde blant annet arbeidsflyten i visualiseringen bedre.\n",
    "\n",
    "\n",
    "### Utfordringer\n",
    "\n",
    "Hver av medlemmene i gruppen møtte på mange utfordringer på vei mot et ferdigstilt prosjekt. Versjonshåndtering på tvers av branches og medlemmer førte i blant til at løsninger kræsjet med hverandre. Her hjalp det å lage branches ut ifra issues for hvert medlem. I tillegg var bruk av virtuelt miljø og filen med nødvendigheter opphav til feil med bruk av diverse pakker.\n",
    "\n",
    "Ofte under utviklingen, og særlig i starten, opplevde alle medlemmene at det var vanskelig å vite hva problemet var. Med ulik kodeerfaring og mye nytt og uten tydelig beskjed om hva som ville bli vektlagt i prosjektet var det vanskelig å rette seg mot et tydelig mål om hva som skulle oppnås. I situasjoner hvor alle følte seg litt usikker ble det tatt kontakt med studentassistent og diskutert innad i gruppen hvordan man skulle gå frem for å løse oppgaven på best mulig måte.\n",
    "\n",
    "Prediksjonsoppgaven var noe krevende å skulle begynne på. Hvor nøyaktig prediksjonen realistisk sett kunne bli var usikkert, men etter å ha søkt opp forskjellige metoder for prediksjon og hvordan nøyaktigheten kunne testet, ble det overkommelig.\n",
    "\n",
    "\n",
    "## Vurdering av prosjektet\n",
    "\n",
    "### Resultatet\n",
    "\n",
    "Sluttproduktet er noe gruppen er stolte av å kunne levere ettersom det har blitt lært og anvendt mye ny kunnskap. Det er et oversiktlig prosjekt med ryddig og naturlig strukturert kode som oppnår det gruppen ønsket i utgangspunktet. Prosjektet fokuserer på nedbør og å kunne gi en ok prediksjon av nedbør i fremtiden. I tillegg til prediksjon har det blitt lagt vekt på visualisering av dataene. Her ønsket gruppen å vise forskjellige metoder, men også fine grafer som fremstiller data på en god måte.\n",
    "\n",
    "### Forbedringer\n",
    "\n",
    "Når det kommer til forbedringer er det hovedsakelig prosjektledelse som har mest å hente. I dette prosjektet var det vanskelig å planlegge alt fra starten av, ettersom det ikke var tydelig hva som ble lagt mest vekt på i sluttproduktet. Etter hvert som prosjektet utviklet seg, ble det mer og mer klart hva som var viktig å ha med. Det hadde vært en fordel med en mer strukturert plan, men med noe usikkerhet i starten var den vanskelig å lage.\n",
    "\n",
    "\n",
    "## Samarbeid\n",
    "\n",
    "Først og fremst var gruppesammensetningen svært god. Det var tre medlemmer med ulik erfaring og med forskjellig utgangspunkt. Alle i gruppen går i samme klasse og var flinke til å lytte til hverandre, som har ført til et sluttprodukt alle er stolte av. Alle i gruppen har bidratt i så og si like stor grad, men med ulikt arbeid. Fordelingen har blitt gjort fortløpende og etter hva som har vært naturlig for hver enkelt å begynne på eller fortsette med.\n",
    "\n",
    "\n",
    "## Oppsummering\n",
    "\n",
    "Totalt sett har dette prosjektet gjort alle i gruppen mer stødig på å jobbe i team, både fysisk og digitalt, som om det var i arbeidslivet. Medlemmene i gruppen startet på ulike nivåer når det kom til kodeforståelse, men jobbet godt sammen for å utvikle et sluttprodukt alle er fornøyde med. I arbeidet med prosjektet har det blitt tatt i bruk nye verktøy som har gjort at alle forstår bedre hvordan en applikasjon kan utvikles for å lage noe praktisk. Det har vært en fin læringsprosess og et godt samarbeid, og alle i gruppen er enige om at de har lært mye av prosjektet."
   ]
  }
 ],
 "metadata": {
  "language_info": {
   "name": "python"
  }
 },
 "nbformat": 4,
 "nbformat_minor": 5
}
