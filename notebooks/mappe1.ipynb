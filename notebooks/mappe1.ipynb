{
 "cells": [
  {
   "cell_type": "code",
   "execution_count": 8,
   "metadata": {},
   "outputs": [
    {
     "name": "stdout",
     "output_type": "stream",
     "text": [
      "time                                               0\n",
      "data.instant.details.air_pressure_at_sea_level     0\n",
      "data.instant.details.air_temperature               0\n",
      "data.instant.details.cloud_area_fraction           0\n",
      "data.instant.details.relative_humidity             0\n",
      "data.instant.details.wind_from_direction           0\n",
      "data.instant.details.wind_speed                    0\n",
      "data.next_12_hours.summary.symbol_code            12\n",
      "data.next_1_hours.summary.symbol_code             31\n",
      "data.next_1_hours.details.precipitation_amount    31\n",
      "data.next_6_hours.summary.symbol_code              6\n",
      "data.next_6_hours.details.precipitation_amount     6\n",
      "dtype: int64\n"
     ]
    }
   ],
   "source": [
    "import pandas as pd\n",
    "\n",
    "# Henter værdata fra CSV\n",
    "df = pd.read_csv(\"../data/processed/vaerdata_processed.csv\")\n",
    "\n",
    "# Ser etter manglende verdier\n",
    "print(df.isnull().sum())\n"
   ]
  }
 ],
 "metadata": {
  "kernelspec": {
   "display_name": "Python 3",
   "language": "python",
   "name": "python3"
  },
  "language_info": {
   "codemirror_mode": {
    "name": "ipython",
    "version": 3
   },
   "file_extension": ".py",
   "mimetype": "text/x-python",
   "name": "python",
   "nbconvert_exporter": "python",
   "pygments_lexer": "ipython3",
   "version": "3.11.5"
  }
 },
 "nbformat": 4,
 "nbformat_minor": 2
}
