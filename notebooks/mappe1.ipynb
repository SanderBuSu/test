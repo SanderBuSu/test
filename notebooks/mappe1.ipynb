{
 "cells": [
  {
   "cell_type": "markdown",
   "metadata": {},
   "source": [
    "# Mappe del 1\n",
    "\n",
    "## Overordnet\n",
    "\n",
    "I første del av mappen har vi satt opp et utviklingsmiljø, hentet inn data fra Meteorologisk institutt og formatert det til å vise det vi anså som nødvendig og interessante data.\n",
    "\n",
    "## Oppgave 1\n",
    "I første oppgaven har vi satt opp et utviklingsmiljø. Da opprettet vi en organisasjon i GitHub, inviterte alle medlemmer inn i organisasjonen og laget et repository for prosjektet. Her startet vi med å legge inn filer for å sette opp mappestrukturen. Etter at vi fikk tilgang til en template for prosjektet la vi inn nødvendige filer vi ikke allerede hadde lagt inn, og testet miljøet.\n",
    "\n",
    "For at alle skal henge med og ha kontroll på hvordan prosjektet ligger an begynte vi tidlig med implementering av branches, blant annet main og dev branch. Dette overholder en konsistent prosess i arbeidet som forhindrer at feil blir publisert i hovedkoden. Vi jobber kontinuerlig med å opprettholde oversikt og forsøker å bruke branches aktivt for å fikse problemer eller legge til nye features. Vi tok i bruk issues tidlig, og etter hvert også å lage branches ut ifra issues. Dette gjør det mer sømløst å benytte issues.\n",
    "\n",
    "## Oppgave 2\n",
    "\n",
    "I oppgave 2 henter vi ut data fra API-er. Vi valgte å beytte oss av Frost-API fra met-no som har mange forskjellige målinger vi kan hente ut. For å få tilgang til API-et opprettet vi en bruker på developer.yr.no og benyttet oss av en klient-ID med en tilhørende client secret. Data hentes da ut fra API-et med en Python-kode som konverterer dataene til JSON-format. Videre konverteres det til en CSV-fil hvor dataene er enklere å lese, men man tydelig ser at det er tomme celler som må håndteres/formateres mer senere. For å ha litt varierte data og senere kunne jobbe ut ifra hentet vi både data fra værstasjonen på Blindern i Oslo og fra værstasjonen i Tromsø.\n",
    "\n",
    "## Oppgave 3\n",
    "\n",
    "I oppgave 3 bruker vi dataene fra oppgave 2, fjerner unødvendige data som vi ikke ønsker å bruke og formaterer de på en mer hensiktsmessig måte. Ved å diskutere rundt hva vi ønsker å (til slutt) vise med dataene våre kom vi fram til at vi vil se på forskjellen i endring i de ulike elementene mellom Tromsø og Oslo (BlindernI) "
   ]
  }
 ],
 "metadata": {
  "kernelspec": {
   "display_name": "Python 3",
   "language": "python",
   "name": "python3"
  },
  "language_info": {
   "codemirror_mode": {
    "name": "ipython",
    "version": 3
   },
   "file_extension": ".py",
   "mimetype": "text/x-python",
   "name": "python",
   "nbconvert_exporter": "python",
   "pygments_lexer": "ipython3",
   "version": "3.11.5"
  }
 },
 "nbformat": 4,
 "nbformat_minor": 2
}
