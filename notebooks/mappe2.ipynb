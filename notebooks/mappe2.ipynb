{
 "cells": [
  {
   "cell_type": "markdown",
   "metadata": {},
   "source": [
    "# Mappe del 2\n",
    "Her er all info og besvarelse fra andre del av prosjektet. Denne delen har fokusert på å ta i bruk dataene hentet ut og formatterte i første del, for så å visualisere det og lage en enkel prediksjonsmodell. I dette prosjektet er det fokus på  nedbør og å kunne forutsi om det vil regne dagen etterpå eller ikke.\n",
    "\n",
    "## Oppgave 4\n",
    "\n",
    "Første oppgave i andre del av prosjektet fokuserte på analysen av dataene. Her analyseres data og det beregnes gjennomsnitt, median og standardavvik. Dette steget ga et innsyn i dataene og dannet en forståelse som gjorde videre arbeid enklere.\n",
    "\n",
    "## Oppgave 5\n",
    "\n",
    "Analysen av dataene med de statistiske målene ble nyttige for å videre kunne visualisere dataene og se hvordan elementer som nedbør faktisk så ut over flere år. Her ble det i utgangspunktet plottet mye på grunn av et fokus på å forstå enda mer av dataene og hvordan de kunne tas i bruk i siste steg for prediksjon. Det ble mot slutten av prosjektet kuttet ned på mengden visualsering for å holde det ryddig og enkelt.\n",
    "\n",
    "## Oppgave 6\n",
    "\n",
    "Den mest krevende oppgaven om prediksjon er et forsøk på å forutsi nedbør en dag i forveien. Her benyttes to maskinlæringsmodeller, logistisk regresjon og Naive Byes, for å gi en indikasjon på om det vil regne eller ikke. Etter å ha målt nøyaktigheten av hver av modellene viste det seg at logistisk regresjon var mest nøyaktiig. Den ble derfor brukt i siste del av oppgaven som da forteller om det blir regn dagen etterpå eller ikke basert på maksimum- og minimumstemperaturen for dagen i dag."
   ]
  }
 ],
 "metadata": {
  "language_info": {
   "name": "python"
  }
 },
 "nbformat": 4,
 "nbformat_minor": 2
}
