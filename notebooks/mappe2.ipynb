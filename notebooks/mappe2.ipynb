{
 "cells": [
  {
   "cell_type": "markdown",
   "metadata": {},
   "source": [
    "# Mappe del 2\n",
    "Her ligger all info fra første del av prosjektet.\n",
    "\n",
    "## Oppgave 4\n",
    "\n",
    "## Oppgave 5\n",
    "\n",
    "## Oppgave 6\n",
    "\n",
    "## Oppgave 7\n",
    "\n"
   ]
  },
  {
   "cell_type": "markdown",
   "metadata": {},
   "source": []
  }
 ],
 "metadata": {
  "language_info": {
   "name": "python"
  }
 },
 "nbformat": 4,
 "nbformat_minor": 2
}
