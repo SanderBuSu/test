{
 "cells": [
  {
   "cell_type": "markdown",
   "id": "080fc2ff",
   "metadata": {},
   "source": [
    "# Hvordan kjøre prosjektet\n",
    "\n",
    "## 1. Kjør følgende kommandoer i terminalen for å laste ned avhengigheter\n",
    "python -m venv venv  # (valgfritt, men anbefalt)\n",
    "\n",
    "source venv/bin/activate  # (eller \"venv\\Scripts\\activate\" på Windows)\n",
    "\n",
    "pip install -r requirements.txt\n",
    "\n",
    "\n",
    "## 2. Hente data fra API\n",
    "\n",
    "Kjør getvaerdata.ipynb\n",
    "\n",
    "\n",
    "## 3. Formattere dataene til CSV\n",
    "\n",
    "Kjør readvaerdata.ipynb\n",
    "\n",
    "\n",
    "## 4. Se statistiske verdier for dataene\n",
    "\n",
    "Kjør analysis.py\n",
    "\n",
    "\n",
    "## 5. Se grafer og figurer av dataene\n",
    "\n",
    "Kjør alle notebooks i mappen 'visualization'\n",
    "\n",
    "\n",
    "## 6.  for å forutsi om det blir nedbør i morgen \n",
    "\n",
    "Kjør prediction.ipynb\n",
    "\n",
    "\n",
    "## 7. Se manglende verdier (valgfritt)\n",
    "\n",
    "Kjør findmissingdata.ipynb\n",
    "\n",
    "\n",
    "# Testing\n",
    "\n",
    "## Hvordan kjøre tester\n",
    "\n",
    "Kjør hver av test-filene i mappen /tests for å sjekke at hver av klassene fungerer som de skal.\n",
    "\n",
    "Dersom terminal skriver OK tilbake er testen godkjent."
   ]
  }
 ],
 "metadata": {
  "language_info": {
   "name": "python"
  }
 },
 "nbformat": 4,
 "nbformat_minor": 5
}
